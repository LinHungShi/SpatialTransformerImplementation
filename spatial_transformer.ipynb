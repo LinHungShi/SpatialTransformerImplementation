{
 "cells": [
  {
   "cell_type": "code",
   "execution_count": 2,
   "metadata": {
    "collapsed": false
   },
   "outputs": [],
   "source": [
    "from spatialtransformer import *\n",
    "import theano\n",
    "from theano import tensor as T\n",
    "import numpy as np\n",
    "import cv2\n",
    "import matplotlib\n",
    "from matplotlib import pyplot as plt\n",
    "%matplotlib inline\n",
    "\n",
    "from load_data import *"
   ]
  },
  {
   "cell_type": "code",
   "execution_count": 5,
   "metadata": {
    "collapsed": false
   },
   "outputs": [
    {
     "name": "stdout",
     "output_type": "stream",
     "text": [
      "start training\n",
      "0.542972743511\n",
      "0.508886754513\n",
      "0.446189671755\n",
      "0.389771729708\n",
      "0.26588177681\n",
      "0.0975446924567\n",
      "0.0803844556212\n",
      "0.0711917355657\n",
      "0.0689558088779\n",
      "0.0668961405754\n",
      "0.0658312439919\n",
      "0.0643237829208\n",
      "0.0637033581734\n",
      "0.0626346766949\n",
      "0.0623720176518\n",
      "0.0613438077271\n",
      "0.0613313466311\n",
      "0.0606444738805\n",
      "0.0615801177919\n",
      "0.0612829104066\n",
      "0.0640852376819\n",
      "0.0607369877398\n",
      "0.0638158991933\n",
      "0.0605087578297\n",
      "0.0643034055829\n",
      "0.0604194290936\n",
      "0.0650771707296\n",
      "0.0603170283139\n",
      "0.0656796991825\n",
      "0.0600042901933\n",
      "0.0653463304043\n",
      "0.0593513771892\n",
      "0.0642707198858\n",
      "0.058585241437\n",
      "0.0630275532603\n",
      "0.0579895749688\n",
      "0.0625742450356\n",
      "0.0578130781651\n",
      "0.0628202706575\n",
      "0.0572418905795\n",
      "0.0617517083883\n",
      "0.0570652112365\n",
      "0.0617539063096\n",
      "0.0565012171865\n",
      "0.0614793971181\n",
      "0.0561434924603\n",
      "0.0606108494103\n",
      "0.0561183951795\n",
      "0.0613432265818\n",
      "0.0557843185961\n"
     ]
    }
   ],
   "source": [
    "'''\n",
    "import theano.sparse\n",
    "rng = np.random.RandomState(12345)\n",
    "#img = cv2.imread(\"img2.jpg\").astype(np.float32)\n",
    "#img = img / 255.0\n",
    "img = np.random.rand(28,28,3).astype(np.float32)\n",
    "img = np.expand_dims(img, axis = 0)\n",
    "img = img.transpose(0,3,1,2)\n",
    "theta_t = np.array([1,0,0,0,1,0])\n",
    "theta_t = np.expand_dims(theta_t, axis = 0).astype(np.float32)\n",
    "\n",
    "img_shared = theano.shared(np.asarray(img, dtype = np.float32), borrow = True)\n",
    "theta_shared = theano.shared(np.asarray(theta_t, dtype = np.float32), borrow = False)\n",
    "'''\n",
    "dataset = load_mnist()\n",
    "batch_size = 100\n",
    "# partition into relevant datasets\n",
    "train_set_x, train_set_y = dataset[0]\n",
    "valid_set_x, valid_set_y = dataset[1]\n",
    "test_set_x , test_set_y  = dataset[2]\n",
    "\n",
    "# compute minibatches\n",
    "n_train_batches = train_set_x.get_value(borrow=True).shape[0]\n",
    "n_valid_batches = valid_set_x.get_value(borrow=True).shape[0]\n",
    "n_test_batches = test_set_x.get_value(borrow=True).shape[0]\n",
    "n_train_batches //= batch_size\n",
    "n_valid_batches //= batch_size\n",
    "n_test_batches //= batch_size\n",
    "scale = 2\n",
    "input_dim = (batch_size, 1, 28, 28)\n",
    "\n",
    "x = T.matrix('x')\n",
    "\n",
    "layer0_input = x.reshape((batch_size, 1, 28, 28))\n",
    "scaled_input = T.signal.pool.pool_2d(layer0_input, (scale, scale), ignore_border = True)\n",
    "trans_img = STN_CNN(input_dim, layer0_input, scale = 2)\n",
    "params = trans_img.params\n",
    "output = trans_img.output\n",
    "theta = trans_img.theta\n",
    "cost = T.mean((output - scaled_input)**2)\n",
    "grads = T.grad(cost, params)    \n",
    "updates = [\n",
    "    (param_i, param_i - 0.1 * grad_i)\n",
    "    for param_i, grad_i in zip(params, grads)\n",
    "]\n",
    "train_model = theano.function(\n",
    "    [],\n",
    "    [cost, theta, output], \n",
    "    updates=updates,\n",
    "    givens={\n",
    "        x: train_set_x[0:batch_size]\n",
    "    }\n",
    ")\n",
    "print \"start training\"\n",
    "for i in range(50):\n",
    "    output = train_model()\n",
    "    print output[0]\n",
    "result = output[2]\n"
   ]
  },
  {
   "cell_type": "code",
   "execution_count": 8,
   "metadata": {
    "collapsed": false
   },
   "outputs": [
    {
     "name": "stdout",
     "output_type": "stream",
     "text": [
      "(1, 14, 14)\n"
     ]
    },
    {
     "data": {
      "text/plain": [
       "<matplotlib.image.AxesImage at 0x10be6a650>"
      ]
     },
     "execution_count": 8,
     "metadata": {},
     "output_type": "execute_result"
    },
    {
     "data": {
      "image/png": "[encoded data removed]",
      "text/plain": [
       "<matplotlib.figure.Figure at 0x11997e3d0>"
      ]
     },
     "metadata": {},
     "output_type": "display_data"
    }
   ],
   "source": [
    "print result[2].shape\n",
    "plt.imshow(result[5].reshape(14,14))"
   ]
  },
  {
   "cell_type": "code",
   "execution_count": 8,
   "metadata": {
    "collapsed": false
   },
   "outputs": [
    {
     "name": "stdout",
     "output_type": "stream",
     "text": [
      "start training\n",
      "0.418556243181\n",
      "0.108208805323\n",
      "0.107311688364\n",
      "0.107281669974\n",
      "0.10735937953\n",
      "0.107364915311\n",
      "0.107248798013\n",
      "0.107150182128\n",
      "0.10713814944\n",
      "0.10713801533\n",
      "0.107137925923\n",
      "0.107137225568\n",
      "0.107136681676\n",
      "0.107136242092\n",
      "0.107135735452\n",
      "0.107134982944\n",
      "0.10713429749\n",
      "0.107133865356\n",
      "0.107133589685\n",
      "0.107133440673\n",
      "0.107133366168\n",
      "0.107133314013\n",
      "0.107133306563\n",
      "0.107133291662\n",
      "0.107133276761\n",
      "0.10713326931\n",
      "0.10713326931\n",
      "0.107133254409\n",
      "0.107133254409\n",
      "0.107133254409\n",
      "0.107133239508\n",
      "0.107133239508\n",
      "0.107133239508\n",
      "0.107133232057\n",
      "0.107133232057\n",
      "0.107133232057\n",
      "0.107133217156\n",
      "0.107133217156\n",
      "0.107133217156\n",
      "0.107133202255\n",
      "0.107133202255\n",
      "0.107133194804\n",
      "0.107133194804\n",
      "0.107133194804\n",
      "0.107133179903\n",
      "0.107133179903\n",
      "0.107133179903\n",
      "0.107133165002\n",
      "0.107133165002\n",
      "0.107133165002\n"
     ]
    }
   ],
   "source": [
    "dataset = load_mnist()\n",
    "batch_size = 100\n",
    "# partition into relevant datasets\n",
    "train_set_x, train_set_y = dataset[0]\n",
    "valid_set_x, valid_set_y = dataset[1]\n",
    "test_set_x , test_set_y  = dataset[2]\n",
    "\n",
    "# compute minibatches\n",
    "n_train_batches = train_set_x.get_value(borrow=True).shape[0]\n",
    "n_valid_batches = valid_set_x.get_value(borrow=True).shape[0]\n",
    "n_test_batches = test_set_x.get_value(borrow=True).shape[0]\n",
    "n_train_batches //= batch_size\n",
    "n_valid_batches //= batch_size\n",
    "n_test_batches //= batch_size\n",
    "scale = 2\n",
    "input_dim = (batch_size, 1, 28, 28)\n",
    "\n",
    "x = T.matrix('x')\n",
    "\n",
    "layer0_input = x.reshape((batch_size, 1, 28, 28))\n",
    "trans_img = STN_CNN(input_dim, layer0_input, [100,100,100])\n",
    "params = trans_img.params\n",
    "output = trans_img.output\n",
    "theta = trans_img.theta\n",
    "cost = T.mean((output - layer0_input)**2)\n",
    "grads = T.grad(cost, params)    \n",
    "updates = [\n",
    "    (param_i, param_i - 0.5 * grad_i)\n",
    "    for param_i, grad_i in zip(params, grads)\n",
    "]\n",
    "train_model = theano.function(\n",
    "    [],\n",
    "    [cost, theta, output], \n",
    "    updates=updates,\n",
    "    givens={\n",
    "        x: train_set_x[0:batch_size]\n",
    "    }\n",
    ")\n",
    "print \"start training\"\n",
    "for i in range(50):\n",
    "    output = train_model()\n",
    "    print output[0]\n",
    "result = output[2]\n"
   ]
  },
  {
   "cell_type": "code",
   "execution_count": 6,
   "metadata": {
    "collapsed": false
   },
   "outputs": [
    {
     "name": "stdout",
     "output_type": "stream",
     "text": [
      "(1, 28, 28)\n"
     ]
    },
    {
     "data": {
      "text/plain": [
       "<matplotlib.image.AxesImage at 0x10c5c8510>"
      ]
     },
     "execution_count": 6,
     "metadata": {},
     "output_type": "execute_result"
    },
    {
     "data": {
      "image/png": "[encoded data removed]",
      "text/plain": [
       "<matplotlib.figure.Figure at 0x10ce6cf10>"
      ]
     },
     "metadata": {},
     "output_type": "display_data"
    }
   ],
   "source": [
    "print result[2].shape\n",
    "plt.imshow(result[0].reshape(28,28))"
   ]
  }
 ],
 "metadata": {
  "kernelspec": {
   "display_name": "Python 2",
   "language": "python",
   "name": "python2"
  },
  "language_info": {
   "codemirror_mode": {
    "name": "ipython",
    "version": 2
   },
   "file_extension": ".py",
   "mimetype": "text/x-python",
   "name": "python",
   "nbconvert_exporter": "python",
   "pygments_lexer": "ipython2",
   "version": "2.7.12"
  }
 },
 "nbformat": 4,
 "nbformat_minor": 0
}
